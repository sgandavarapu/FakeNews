{
 "cells": [
  {
   "cell_type": "code",
   "execution_count": 1,
   "metadata": {
    "collapsed": true
   },
   "outputs": [],
   "source": [
    "import requests\n",
    "import json\n",
    "import os\n",
    "from bs4 import BeautifulSoup\n",
    "from datetime import datetime"
   ]
  },
  {
   "cell_type": "code",
   "execution_count": 46,
   "metadata": {
    "collapsed": false
   },
   "outputs": [],
   "source": [
    "source = 'dailyheadlines'\n",
    "month = '02'\n",
    "days = [str(i) for i in list(range(18,29))]\n",
    "\n",
    "dates = []\n",
    "for day in days:\n",
    "    dates.append(\"{0}-{1}\".format(month, day))"
   ]
  },
  {
   "cell_type": "code",
   "execution_count": 56,
   "metadata": {
    "collapsed": false
   },
   "outputs": [],
   "source": [
    "for date in dates:\n",
    "    # Load HTML\n",
    "    filepath = '/mnt/c/Users/Brennan/Dropbox/MIDS/w210-capstone/data/notCredible/{0}/{1}.html'.format(source,date)\n",
    "    with open(filepath) as f:\n",
    "        soup = BeautifulSoup(f, 'lxml')\n",
    "    \n",
    "    # Pull out article links\n",
    "    links = []\n",
    "    i=0\n",
    "\n",
    "    for li in soup.findAll('li', attrs={'class':'infinite-post'}):\n",
    "        for link in li.findAll('a'):\n",
    "            links.append(link.get('href'))\n",
    "\n",
    "    links = set(links)\n",
    "    links = list(links)\n",
    "\n",
    "\n",
    "    # Grab content from articles\n",
    "    i=0\n",
    "    for link in links:\n",
    "        r = requests.get(link)\n",
    "        soup = BeautifulSoup(r.text, 'lxml')\n",
    "        title = soup.title.string.replace(' – Daily Headlines', '')\n",
    "        try:\n",
    "            pubdate = soup.find('time', attrs={'class':'post-date updated'})[\"datetime\"]\n",
    "        except TypeError:\n",
    "            pubdate=''\n",
    "\n",
    "        if date in pubdate:\n",
    "            date_longform = '{0}-2017'.format(date)\n",
    "            contents = []\n",
    "            for div in soup.find('div', attrs={\"id\":\"content-main\"}):\n",
    "                contents.append(div)\n",
    "\n",
    "            article = {}\n",
    "            content = ''.join(str(p) for p in contents)\n",
    "            article[\"title\"] = title\n",
    "            article[\"url\"] = link\n",
    "            article[\"date\"] = date_longform\n",
    "            article[\"source\"] = source\n",
    "            article[\"content\"] = content\n",
    "\n",
    "            outfile = '/mnt/c/Users/Brennan/Dropbox/MIDS/w210-capstone/data/notCredible/{0}/articles/{2}/article{1}_{2}.txt'.format(source,i,date)\n",
    "            os.makedirs(os.path.dirname(outfile), exist_ok=True)\n",
    "            i+=1\n",
    "\n",
    "            with open(outfile, 'w') as f:\n",
    "                json.dump(article, f)"
   ]
  }
 ],
 "metadata": {
  "kernelspec": {
   "display_name": "Python 3",
   "language": "python",
   "name": "python3"
  },
  "language_info": {
   "codemirror_mode": {
    "name": "ipython",
    "version": 3
   },
   "file_extension": ".py",
   "mimetype": "text/x-python",
   "name": "python",
   "nbconvert_exporter": "python",
   "pygments_lexer": "ipython3",
   "version": "3.5.2"
  }
 },
 "nbformat": 4,
 "nbformat_minor": 2
}
