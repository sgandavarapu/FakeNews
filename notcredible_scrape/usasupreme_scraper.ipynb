{
 "cells": [
  {
   "cell_type": "code",
   "execution_count": 11,
   "metadata": {
    "collapsed": false
   },
   "outputs": [
    {
     "name": "stdout",
     "output_type": "stream",
     "text": [
      "You must `download()` an article before calling `parse()` on it!\n",
      "You must `download()` an article before calling `parse()` on it!\n",
      "You must `download()` an article before calling `parse()` on it!\n",
      "You must `download()` an article before calling `parse()` on it!\n",
      "You must `download()` an article before calling `parse()` on it!\n",
      "You must `download()` an article before calling `parse()` on it!\n"
     ]
    }
   ],
   "source": [
    "from bs4 import BeautifulSoup\n",
    "from datetime import datetime\n",
    "import newspaper\n",
    "import requests\n",
    "import json\n",
    "import os\n",
    "\n",
    "##pull html\n",
    "#url = \"http://itmakessenseblog.com/\"\n",
    "#content = urllib.request.urlopen(url).read()\n",
    "#soup = BeautifulSoup(content)\n",
    "#print(soup.prettify())\n",
    "\n",
    "#reading html flat files \n",
    "source = 'usasupreme'\n",
    "month = '02'\n",
    "days = [str(i) for i in list(range(18,28))]\n",
    "\n",
    "dates = []\n",
    "for day in days:\n",
    "    dates.append(\"{0}-{1}\".format(month, day))\n",
    "    \n",
    "links = []   \n",
    "for date in dates:\n",
    "    filepath = 'data/notCredible/{0}/{1}.html'.format(source,date)\n",
    "    with open(filepath) as f:\n",
    "        soup = BeautifulSoup(f, 'lxml')\n",
    "        \n",
    "    # Pull out article links\n",
    "\n",
    "    i=0\n",
    "    batch = []\n",
    "    for html_link in soup.find_all('a'):\n",
    "        url = html_link.get('href')\n",
    "        if ((url not in links) and ('author' not in url) and ('category' not in url) and ('#' not in url) and ('about-us' not in url) and ('terms-of-service' not in url)):\n",
    "            links.append(url)\n",
    "\n",
    "for link in links:\n",
    "    try:\n",
    "        link = newspaper.Article(link)\n",
    "        link.download()\n",
    "\n",
    "        link.parse()\n",
    "        html = link.html\n",
    "        date_longform = ''\n",
    "        title = link.title.replace(' - USA SUPREME', '')\n",
    "\n",
    "        article = {}\n",
    "        article[\"html\"] = html\n",
    "        article[\"title\"] = title\n",
    "        article[\"url\"] = link.url\n",
    "        article[\"date\"] = date_longform\n",
    "        article[\"source\"] = source\n",
    "        article[\"text\"] = link.text\n",
    "        article[\"images\"] = list(link.images)\n",
    "        article[\"videos\"] = link.movies\n",
    "\n",
    "        outfile = 'data/notCredible/{0}/articles/article{1}.txt'.format(source,i,date)\n",
    "        os.makedirs(os.path.dirname(outfile), exist_ok=True)\n",
    "        i+=1\n",
    "\n",
    "        with open(outfile, 'w') as f:\n",
    "            json.dump(article, f)\n",
    "        \n",
    "    except:\n",
    "        pass\n"
   ]
  },
  {
   "cell_type": "code",
   "execution_count": 12,
   "metadata": {
    "collapsed": false
   },
   "outputs": [
    {
     "name": "stdout",
     "output_type": "stream",
     "text": [
      "You must `download()` an article before calling `parse()` on it!\n",
      "You must `download()` an article before calling `parse()` on it!\n",
      "You must `download()` an article before calling `parse()` on it!\n",
      "You must `download()` an article before calling `parse()` on it!\n",
      "You must `download()` an article before calling `parse()` on it!\n",
      "You must `download()` an article before calling `parse()` on it!\n"
     ]
    }
   ],
   "source": [
    "month = '03'\n",
    "days = [str(i) for i in list(range(1,28))]\n",
    "\n",
    "dates = []\n",
    "for day in days:\n",
    "    dates.append(\"{0}-{0:0>2}\".format(month, day))\n",
    "    \n",
    "\n",
    "for date in dates:\n",
    "    filepath = 'data/notCredible/{0}/{1}.html'.format(source,date)\n",
    "    with open(filepath) as f:\n",
    "        soup = BeautifulSoup(f, 'lxml')\n",
    "        \n",
    "    # Pull out article links\n",
    "\n",
    "    i=173\n",
    "    batch = []\n",
    "    for html_link in soup.find_all('a'):\n",
    "        url = html_link.get('href')\n",
    "        if ((url not in links) and ('author' not in url) and ('category' not in url) and ('#' not in url) and ('about-us' not in url) and ('terms-of-service' not in url)):\n",
    "            links.append(url)\n",
    "\n",
    "for link in links:\n",
    "    try:\n",
    "        link = newspaper.Article(link)\n",
    "        link.download()\n",
    "\n",
    "        link.parse()\n",
    "        html = link.html\n",
    "        date_longform = ''\n",
    "        title = link.title.replace(' - USA SUPREME', '')\n",
    "\n",
    "        article = {}\n",
    "        article[\"html\"] = html\n",
    "        article[\"title\"] = title\n",
    "        article[\"url\"] = link.url\n",
    "        article[\"date\"] = date_longform\n",
    "        article[\"source\"] = source\n",
    "        article[\"text\"] = link.text\n",
    "        article[\"images\"] = list(link.images)\n",
    "        article[\"videos\"] = link.movies\n",
    "\n",
    "        outfile = 'data/notCredible/{0}/articles/article{1}.txt'.format(source,i,date)\n",
    "        os.makedirs(os.path.dirname(outfile), exist_ok=True)\n",
    "        i+=1\n",
    "\n",
    "        with open(outfile, 'w') as f:\n",
    "            json.dump(article, f)\n",
    "        \n",
    "    except:\n",
    "        pass\n"
   ]
  },
  {
   "cell_type": "code",
   "execution_count": null,
   "metadata": {
    "collapsed": true
   },
   "outputs": [],
   "source": []
  }
 ],
 "metadata": {
  "kernelspec": {
   "display_name": "Python 3",
   "language": "python",
   "name": "python3"
  },
  "language_info": {
   "codemirror_mode": {
    "name": "ipython",
    "version": 3
   },
   "file_extension": ".py",
   "mimetype": "text/x-python",
   "name": "python",
   "nbconvert_exporter": "python",
   "pygments_lexer": "ipython3",
   "version": "3.6.0"
  }
 },
 "nbformat": 4,
 "nbformat_minor": 2
}
