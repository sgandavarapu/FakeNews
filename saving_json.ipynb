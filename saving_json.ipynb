{
 "cells": [
  {
   "cell_type": "code",
   "execution_count": 1,
   "metadata": {
    "collapsed": true
   },
   "outputs": [],
   "source": [
    "import requests\n",
    "import json\n",
    "import os\n",
    "from bs4 import BeautifulSoup\n",
    "from datetime import datetime\n",
    "from newspaper import fulltext\n",
    "import schedule\n",
    "import time\n",
    "import newspaper"
   ]
  },
  {
   "cell_type": "code",
   "execution_count": 2,
   "metadata": {
    "collapsed": true
   },
   "outputs": [],
   "source": [
    "urls=['https://newsapi.org/v1/articles?source=independent&sortBy=top&apiKey=69ba1408fe9b4ffb821fe13f4cf56244',\n",
    "      'https://newsapi.org/v1/articles?source=bbc-news&sortBy=top&apiKey=69ba1408fe9b4ffb821fe13f4cf56244',\n",
    "      'https://newsapi.org/v1/articles?source=reuters&sortBy=top&apiKey=69ba1408fe9b4ffb821fe13f4cf56244',\n",
    "      'https://newsapi.org/v1/articles?source=the-wall-street-journal&sortBy=top&apiKey=69ba1408fe9b4ffb821fe13f4cf56244',\n",
    "      'https://newsapi.org/v1/articles?source=the-washington-post&sortBy=top&apiKey=69ba1408fe9b4ffb821fe13f4cf56244',\n",
    "      'https://newsapi.org/v1/articles?source=the-new-york-times&sortBy=top&apiKey=69ba1408fe9b4ffb821fe13f4cf56244',\n",
    "      'https://newsapi.org/v1/articles?source=national-geographic&sortBy=top&apiKey=69ba1408fe9b4ffb821fe13f4cf56244',\n",
    "      'https://newsapi.org/v1/articles?source=usa-today&sortBy=top&apiKey=69ba1408fe9b4ffb821fe13f4cf56244']\n"
   ]
  },
  {
   "cell_type": "code",
   "execution_count": 6,
   "metadata": {
    "collapsed": false
   },
   "outputs": [],
   "source": [
    "def saving_json():\n",
    "    \n",
    "    print('saving ...')\n",
    "    for url in urls:\n",
    "        source = url.replace('https://newsapi.org/v1/articles?source=','').replace('&sortBy=top&apiKey=69ba1408fe9b4ffb821fe13f4cf56244','')\n",
    "        print(source)\n",
    "        sourcename = '{0}/data/Credible/{1}/{2}/api.txt'.format(loc, source, date)\n",
    "        os.makedirs(os.path.dirname(sourcename), exist_ok=True)\n",
    "        with open (sourcename) as f:\n",
    "            jdata = json.load(f)\n",
    "            jdata2=jdata['articles']\n",
    "\n",
    "        for i in range(0,5):\n",
    "            r=jdata2[i]['url']\n",
    "            print(r)\n",
    "            link = newspaper.Article(r)\n",
    "            link.download()\n",
    "            html = link.html\n",
    "            if link.is_downloaded:\n",
    "                link.parse()\n",
    "                text = fulltext(html)\n",
    "                date_longform = '{0}-2017'.format(date)\n",
    "        \n",
    "                article = {}\n",
    "                article[\"html\"] = html\n",
    "                article[\"title\"] = link.title\n",
    "                article[\"url\"] = link.url\n",
    "                article[\"date\"] = date_longform\n",
    "                article[\"source\"] = source\n",
    "                article[\"text\"] = link.text\n",
    "                article[\"images\"] = list(link.images)\n",
    "                article[\"videos\"] = link.movies\n",
    "                count=i+1\n",
    "                filename = '{0}/data/Credible/{1}/{2}/article_{3}.txt'.format(loc, source, date, count)\n",
    "                os.makedirs(os.path.dirname(filename), exist_ok=True)\n",
    "                with open(filename, 'w',encoding=\"utf8\",newline='') as file:\n",
    "                    json.dump(article,file)\n",
    "                \n",
    "    print('Finished')\n",
    "    return None"
   ]
  },
  {
   "cell_type": "code",
   "execution_count": 19,
   "metadata": {
    "collapsed": false
   },
   "outputs": [
    {
     "name": "stdout",
     "output_type": "stream",
     "text": [
      "saving ...\n",
      "independent\n",
      "http://www.independent.co.uk/news/uk/politics/second-scottish-independence-live-referendum-nicola-sturgeon-brexit-speech-second-indy-ref-2-uk-eu-a7626746.html\n",
      "http://www.independent.co.uk/news/uk/politics/scottish-eu-independence-referendum-scotland-join-queue-membership-apply-a7627201.html\n",
      "http://www.independent.co.uk/news/uk/politics/scottish-referendum-second-independence-brexit-theresa-may-downing-street-a7627066.html\n",
      "http://www.independent.co.uk/news/world/americas/us-politics/steve-bannon-voter-fraud-criminal-investigation-donald-trump-adviser-white-house-a7626721.html\n",
      "http://www.independent.co.uk/news/world/americas/us-politics/kellyanne-conway-donald-trump-barack-obama-spying-through-microwave-claims-a7626826.html\n",
      "bbc-news\n",
      "http://www.bbc.co.uk/news/uk-scotland-scotland-politics-39255181\n",
      "http://www.bbc.co.uk/news/uk-politics-39249721\n",
      "http://www.bbc.co.uk/news/uk-england-39232062\n",
      "http://www.bbc.co.uk/news/world-europe-39254556\n",
      "http://www.bbc.co.uk/news/uk-england-merseyside-39255408\n",
      "reuters\n",
      "http://feeds.reuters.com/~r/reuters/topNews/~3/XMPULH4pm1I/us-usa-trump-budget-idUSKBN16K008\n",
      "http://feeds.reuters.com/~r/reuters/topNews/~3/xQAxgfgNqCM/us-usa-obamacare-idUSKBN16K0ZX\n",
      "http://feeds.reuters.com/~r/reuters/topNews/~3/XlJc5I7J068/us-japan-navy-southchinasea-exclusive-idUSKBN16K0UP\n",
      "http://feeds.reuters.com/~r/reuters/topNews/~3/2Gy8iWdNKvc/us-britain-eu-scotland-idUSKBN16K1EX\n",
      "http://feeds.reuters.com/~r/reuters/topNews/~3/diFJ3C5wI5E/us-mideast-crisis-syria-casualties-idUSKBN16K1Q1\n",
      "the-wall-street-journal\n",
      "https://www.wsj.com/articles/intel-to-buy-mobileye-for-15-3-billion-1489404970\n",
      "https://www.wsj.com/articles/investors-gird-for-busy-week-of-potential-whipsaws-1489320006\n",
      "https://www.wsj.com/articles/gop-health-plan-would-hit-rural-areas-hard-1489364405\n",
      "https://www.wsj.com/articles/market-drift-suggests-some-investors-may-be-trading-on-u-k-economic-data-ahead-of-release-1489397403\n",
      "https://www.wsj.com/articles/that-pension-you-earned-may-soon-be-coming-from-someone-else-1489342032\n",
      "the-washington-post\n",
      "https://www.washingtonpost.com/business/economy/through-his-budget-a-bottom-line-look-at-trumps-new-washington/2017/03/12/29739206-05be-11e7-b9fa-ed727b644a0b_story.html\n",
      "https://www.washingtonpost.com/powerpost/trump-says-none-but-paul-ryan-says-he-doesnt-know-how-many-would-lose-coverage-under-obamacare-repeal/2017/03/12/be643bfc-0750-11e7-93dc-00f9bdd74ed1_story.html\n",
      "https://www.washingtonpost.com/national/health-science/sleeper-issue-of-medicaids-future-could-prove-health-care-plans-stumbling-block/2017/03/12/d5fe2342-05af-11e7-b1e9-a05d3c21f7cf_story.html\n",
      "https://www.washingtonpost.com/news/fact-checker/wp/2017/03/13/president-trump-the-king-of-flip-flops/\n",
      "https://www.washingtonpost.com/national/in-northern-georgia-a-kkk-banner-seemed-to-some-a-sign-of-the-times/2017/03/12/de5a3518-05bd-11e7-b9fa-ed727b644a0b_story.html\n",
      "the-new-york-times\n",
      "http://www.nytimes.com/2017/03/11/us/michael-brown-ferguson-police-shooting-video.html?src=rec&amp;recp=0\n",
      "http://www.nytimes.com/2017/03/12/sports/ncaa-tournament-selection-sunday.html?src=rec&amp;recp=1\n",
      "http://www.nytimes.com/2017/03/11/us/politics/preet-bharara-us-attorney.html?src=rec&amp;recp=2\n",
      "http://www.nytimes.com/2017/03/12/arts/television/snl-scarlett-johansson-donald-trump-aliens.html?src=rec&amp;recp=3\n",
      "http://www.nytimes.com/2017/03/10/fashion/weddings/for-nbcs-kristen-welker-love-took-its-time.html?src=rec&amp;recp=4\n",
      "national-geographic\n",
      "http://news.nationalgeographic.com/2017/03/great-white-shark-numbers-rising-cape-cod.html\n",
      "http://news.nationalgeographic.com/2017/03/my-climate-action-q-a-aslund-arctic-glacier-greenpeace.html\n",
      "http://news.nationalgeographic.com/2017/03/3d-printed-reefs-coral-bleaching-climate.html\n",
      "http://news.nationalgeographic.com/2017/03/keystone-pipeline-trespassing-across-america-ken-ilgunas.html\n",
      "http://news.nationalgeographic.com/2017/03/marbled-cat-china-endangered-video.html\n",
      "usa-today\n",
      "http://rssfeeds.usatoday.com/~/280360928/0/usatoday-newstopstories~Think-youre-tough-This-guy-climbed-Everest-in-shorts/\n",
      "http://rssfeeds.usatoday.com/~/280357208/0/usatoday-newstopstories~Mass-coral-bleaching-hits-the-Great-Barrier-Reef-for-the-second-year-in-a-row/\n",
      "http://rssfeeds.usatoday.com/~/280355072/0/usatoday-newstopstories~Kellyanne-Conway-challenges-media-on-surveillance-comments/\n",
      "http://rssfeeds.usatoday.com/~/280334768/0/usatoday-newstopstories~Winter-storm-Stella-is-bearing-down-What-you-need-to-know/\n",
      "http://rssfeeds.usatoday.com/~/280155608/0/usatoday-newstopstories~Kellyanne-Conway-suggests-even-wider-surveillance-of-Trump-campaign/\n",
      "Finished\n"
     ]
    }
   ],
   "source": [
    "loc = 'C:/Users/thajzargarbashi/Documents/210'\n",
    "saving_json()\n",
    "schedule.every().day.at(\"09:00\").do(saving_json)\n",
    "date = time.strftime(\"%m-%d\")\n",
    "while True:\n",
    "    schedule.run_pending()\n",
    "    time.sleep(60)"
   ]
  },
  {
   "cell_type": "code",
   "execution_count": null,
   "metadata": {
    "collapsed": true
   },
   "outputs": [],
   "source": []
  }
 ],
 "metadata": {
  "kernelspec": {
   "display_name": "Python 3",
   "language": "python",
   "name": "python3"
  },
  "language_info": {
   "codemirror_mode": {
    "name": "ipython",
    "version": 3
   },
   "file_extension": ".py",
   "mimetype": "text/x-python",
   "name": "python",
   "nbconvert_exporter": "python",
   "pygments_lexer": "ipython3",
   "version": "3.6.0"
  }
 },
 "nbformat": 4,
 "nbformat_minor": 2
}
