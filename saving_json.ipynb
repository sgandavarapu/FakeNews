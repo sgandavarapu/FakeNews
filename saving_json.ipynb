{
 "cells": [
  {
   "cell_type": "code",
   "execution_count": 1,
   "metadata": {
    "collapsed": true
   },
   "outputs": [],
   "source": [
    "import requests\n",
    "import json\n",
    "import os\n",
    "from bs4 import BeautifulSoup\n",
    "from datetime import datetime\n",
    "from newspaper import fulltext\n",
    "import schedule\n",
    "import time\n",
    "import newspaper"
   ]
  },
  {
   "cell_type": "code",
   "execution_count": 2,
   "metadata": {
    "collapsed": true
   },
   "outputs": [],
   "source": [
    "urls=['https://newsapi.org/v1/articles?source=independent&sortBy=top&apiKey=69ba1408fe9b4ffb821fe13f4cf56244',\n",
    "      'https://newsapi.org/v1/articles?source=bbc-news&sortBy=top&apiKey=69ba1408fe9b4ffb821fe13f4cf56244',\n",
    "      'https://newsapi.org/v1/articles?source=reuters&sortBy=top&apiKey=69ba1408fe9b4ffb821fe13f4cf56244',\n",
    "      'https://newsapi.org/v1/articles?source=the-wall-street-journal&sortBy=top&apiKey=69ba1408fe9b4ffb821fe13f4cf56244',\n",
    "      'https://newsapi.org/v1/articles?source=the-washington-post&sortBy=top&apiKey=69ba1408fe9b4ffb821fe13f4cf56244',\n",
    "      'https://newsapi.org/v1/articles?source=the-new-york-times&sortBy=top&apiKey=69ba1408fe9b4ffb821fe13f4cf56244',\n",
    "      'https://newsapi.org/v1/articles?source=national-geographic&sortBy=top&apiKey=69ba1408fe9b4ffb821fe13f4cf56244',\n",
    "      'https://newsapi.org/v1/articles?source=usa-today&sortBy=top&apiKey=69ba1408fe9b4ffb821fe13f4cf56244']\n"
   ]
  },
  {
   "cell_type": "code",
   "execution_count": 3,
   "metadata": {
    "collapsed": false
   },
   "outputs": [],
   "source": [
    "def saving_json():\n",
    "    \n",
    "    print('saving ...')\n",
    "    for url in urls:\n",
    "        source = url.replace('https://newsapi.org/v1/articles?source=','').replace('&sortBy=top&apiKey=69ba1408fe9b4ffb821fe13f4cf56244','')\n",
    "        print(source)\n",
    "        sourcename = '{0}/data/Credible/{1}/{2}/api.txt'.format(loc, source, date)\n",
    "        os.makedirs(os.path.dirname(sourcename), exist_ok=True)\n",
    "        with open (sourcename) as f:\n",
    "            jdata = json.load(f)\n",
    "            jdata2=jdata['articles']\n",
    "\n",
    "        for i in range(0,5):\n",
    "            r=jdata2[i]['url']\n",
    "            print(r)\n",
    "            link = newspaper.Article(r)\n",
    "            link.download()\n",
    "            html = link.html\n",
    "            if link.is_downloaded:\n",
    "                link.parse()\n",
    "                text = fulltext(html)\n",
    "                date_longform = '{0}-2017'.format(date)\n",
    "        \n",
    "                article = {}\n",
    "                article[\"html\"] = html\n",
    "                article[\"title\"] = link.title\n",
    "                article[\"url\"] = link.url\n",
    "                article[\"date\"] = date_longform\n",
    "                article[\"source\"] = \"new-york-times\"\n",
    "                article[\"text\"] = link.text\n",
    "                article[\"images\"] = list(link.images)\n",
    "                article[\"videos\"] = link.movies\n",
    "                count=i+1\n",
    "                filename = '{0}/data/Credible/{1}/{2}/article_{3}.txt'.format(loc, source, date, count)\n",
    "                os.makedirs(os.path.dirname(filename), exist_ok=True)\n",
    "                with open(filename, 'w',encoding=\"utf8\",newline='') as file:\n",
    "                    json.dump(article,file)\n",
    "                \n",
    "    print('Finished')\n",
    "    return None"
   ]
  },
  {
   "cell_type": "code",
   "execution_count": null,
   "metadata": {
    "collapsed": false
   },
   "outputs": [
    {
     "name": "stdout",
     "output_type": "stream",
     "text": [
      "saving ...\n",
      "independent\n",
      "http://www.independent.co.uk/news/uk/politics/brexit-treasury-fears-leaked-document-article-50-theresa-may-eu-referendum-exclusive-a7624706.html\n",
      "http://www.independent.co.uk/news/world/europe/netherlands-withdraw-permission-turkish-foreign-minister-mevlet-cavusoglu-plane-landing-rotterdam-a7624246.html\n",
      "http://www.independent.co.uk/news/world/americas/us-politics/attorney-preet-bharara-donald-trump-lawyer-manhattan-us-barack-obama-a7625081.html\n",
      "http://www.independent.co.uk/news/uk/politics/starter-homes-pledge-200000-housing-minister-policy-tory-manifesto-pledge-gavin-barwell-a7624841.html\n",
      "http://www.independent.co.uk/news/uk/politics/government-brexit-vote-house-of-lords-amendments-eu-nationals-meaningful-vote-a7624781.html\n",
      "bbc-news\n",
      "http://www.bbc.co.uk/news/uk-politics-39245298\n",
      "http://www.bbc.co.uk/news/world-europe-39246392\n",
      "http://www.bbc.co.uk/news/uk-england-leicestershire-39246538\n",
      "http://www.bbc.co.uk/news/technology-39246810\n",
      "http://www.bbc.co.uk/news/world-us-canada-39246958\n",
      "reuters\n",
      "http://feeds.reuters.com/~r/reuters/topNews/~3/zkGD05SMKt0/us-usa-trump-justice-idUSKBN16I0PZ\n",
      "http://feeds.reuters.com/~r/reuters/topNews/~3/los0VFi0OvQ/us-southkorea-politics-idUSKBN16J02P\n",
      "http://feeds.reuters.com/~r/reuters/topNews/~3/5Pu-WAup6Ko/us-usa-trump-intruder-idUSKBN16I0KU\n",
      "http://feeds.reuters.com/~r/reuters/topNews/~3/KYenuGQ2nM8/us-mideast-crisis-iraq-prisoners-idUSKBN16I0B6\n",
      "http://feeds.reuters.com/~r/reuters/topNews/~3/jN61wPgJhNg/us-usa-stocks-weekahead-idUSKBN16H2PS\n",
      "the-wall-street-journal\n",
      "https://www.wsj.com/articles/u-s-attorney-preet-bharara-defies-trump-request-to-resign-1489261404\n",
      "https://www.wsj.com/articles/authorities-questioning-cia-contractors-in-connection-with-wikileaks-dump-1489283964\n",
      "https://www.wsj.com/articles/gop-health-plan-risks-backlash-from-seniors-1489244115\n",
      "https://www.wsj.com/articles/intruder-arrested-after-scaling-white-house-fence-secret-service-says-1489256031\n",
      "https://www.wsj.com/articles/uber-gears-up-to-block-bid-to-form-a-union-in-seattle-1489237201\n",
      "the-washington-post\n",
      "https://www.washingtonpost.com/world/national-security/as-north-koreas-arsenal-grows-experts-see-heightened-risk-of-miscalculation/2017/03/11/0a0b5cd2-05be-11e7-ad5b-d22680e18d10_story.html\n",
      "https://www.washingtonpost.com/world/national-security/new-york-federal-prosecutor-preet-bharara-has-not-submitted-resignation/2017/03/11/39163292-067a-11e7-ad5b-d22680e18d10_story.html\n",
      "http://www.washingtonpost.com/news/the-fix/wp/2017/03/11/preet-bharara-said-he-wanted-to-be-a-u-s-attorney-forever-well-he-was-just-fired/\n",
      "https://www.washingtonpost.com/news/to-your-health/wp/2017/03/11/employees-who-decline-genetic-testing-could-face-penalities-under-proposed-bill/\n",
      "https://www.washingtonpost.com/investigations/during-his-political-rise-stephen-k-bannon-was-a-man-with-no-fixed-address/2017/03/11/89866f4c-0285-11e7-ad5b-d22680e18d10_story.html\n",
      "the-new-york-times\n",
      "http://www.nytimes.com/2017/03/11/us/politics/preet-bharara-us-attorney.html?src=rec&amp;recp=0\n",
      "http://www.nytimes.com/2017/03/10/us/politics/us-attorney-justice-department-trump.html?src=rec&amp;recp=1\n",
      "http://www.nytimes.com/2017/03/10/world/europe/bbc-interview-toddler-interruption.html?src=rec&amp;recp=2\n",
      "http://www.nytimes.com/2017/03/10/opinion/sunday/can-sleep-deprivation-cure-depression.html?src=rec&amp;recp=3\n",
      "http://www.nytimes.com/2017/03/10/opinion/a-bill-so-bad-its-awesome.html?src=rec&amp;recp=4\n",
      "national-geographic\n",
      "http://news.nationalgeographic.com/2017/03/marbled-cat-china-endangered-video.html\n",
      "http://news.nationalgeographic.com/2017/03/keystone-pipeline-trespassing-across-america-ken-ilgunas.html\n",
      "http://news.nationalgeographic.com/2017/03/dog-behavior-study-treat.html\n",
      "http://news.nationalgeographic.com/2017/03/mating-insects-frogs-scorpions-babies-newborns.html\n",
      "http://news.nationalgeographic.com/2017/03/stand-up-paddle-board-atlantic-chris-bertish.html\n",
      "usa-today\n",
      "http://rssfeeds.usatoday.com/~/279854928/0/usatoday-newstopstories~Andrew-Jackson-at-Presidents-legacy-isnt-pretty-but-neither-is-history\n",
      "http://rssfeeds.usatoday.com/~/279811866/0/usatoday-newstopstories~Primal-pain-A-climbers-firsthand-account-of-a-lifechanging-fall\n",
      "http://rssfeeds.usatoday.com/~/279799574/0/usatoday-newstopstories~Michigan-utility-customers-still-without-power/\n",
      "http://rssfeeds.usatoday.com/~/279788690/0/usatoday-newstopstories~Immigrant-parents-in-NJ-fear-separation-from-their-kids/\n",
      "http://rssfeeds.usatoday.com/~/279781574/0/usatoday-newstopstories~The-World-Wide-Webs-inventor-warns-its-in-peril-on-th-anniversary/\n",
      "Finished\n"
     ]
    }
   ],
   "source": [
    "loc = 'C:/Users/thajzargarbashi/Documents/210/test'\n",
    "schedule.every().day.at(\"22:12\").do(saving_json)\n",
    "date = time.strftime(\"%m-%d\")\n",
    "while True:\n",
    "    schedule.run_pending()\n",
    "    time.sleep(60)"
   ]
  },
  {
   "cell_type": "code",
   "execution_count": null,
   "metadata": {
    "collapsed": true
   },
   "outputs": [],
   "source": []
  }
 ],
 "metadata": {
  "kernelspec": {
   "display_name": "Python 3",
   "language": "python",
   "name": "python3"
  },
  "language_info": {
   "codemirror_mode": {
    "name": "ipython",
    "version": 3
   },
   "file_extension": ".py",
   "mimetype": "text/x-python",
   "name": "python",
   "nbconvert_exporter": "python",
   "pygments_lexer": "ipython3",
   "version": "3.6.0"
  }
 },
 "nbformat": 4,
 "nbformat_minor": 2
}
