{
 "cells": [
  {
   "cell_type": "code",
   "execution_count": 163,
   "metadata": {
    "collapsed": false
   },
   "outputs": [],
   "source": [
    "import requests\n",
    "import json\n",
    "import os\n",
    "from bs4 import BeautifulSoup\n",
    "from datetime import datetime"
   ]
  },
  {
   "cell_type": "code",
   "execution_count": 190,
   "metadata": {
    "collapsed": false
   },
   "outputs": [],
   "source": [
    "source = 'activistpost'\n",
    "date = '02-27'\n",
    "\n",
    "filepath = '/mnt/c/Users/Brennan/Dropbox/MIDS/w210-capstone/data/notCredible/{0}/{1}.html'.format(source,date)\n",
    "\n",
    "with open(filepath) as f:\n",
    "    soup = BeautifulSoup(f, 'lxml')"
   ]
  },
  {
   "cell_type": "code",
   "execution_count": 191,
   "metadata": {
    "collapsed": false
   },
   "outputs": [],
   "source": [
    "# Pull out article links that were published on date\n",
    "links = []\n",
    "\n",
    "for div in soup.findAll('div', attrs={'class':'home-columns'}):\n",
    "    for article in div.findAll('article'):\n",
    "        for p in div.findAll('p', attrs={'class':'entry-meta'}):\n",
    "            for span in p.findAll('span', attrs={'class':'entry-meta-date updated'}):\n",
    "                pubdate = datetime.strptime(span.text, \"%B %d, %Y\")\n",
    "                if date in str(pubdate):\n",
    "                    for header in article.findAll('h3'):\n",
    "                        for link in header.findAll('a'):\n",
    "                            links.append(link.get('href'))\n",
    "                    \n",
    "links = set(links)\n",
    "links = list(links)"
   ]
  },
  {
   "cell_type": "code",
   "execution_count": 192,
   "metadata": {
    "collapsed": false
   },
   "outputs": [],
   "source": [
    "i=0\n",
    "for link in links:\n",
    "    r = requests.get(link)\n",
    "    soup = BeautifulSoup(r.text, 'lxml')\n",
    "    title = soup.title.string\n",
    "    date_longform = '{0}-2017'.format(date)\n",
    "    contents = []\n",
    "    for div in soup.findAll('div', attrs={'class': 'entry-content clearfix'}):\n",
    "        for p in div.findAll('p'):\n",
    "            contents.append(p)\n",
    "    article = {}\n",
    "    content = ''.join(str(p) for p in contents)\n",
    "    article[\"title\"] = title\n",
    "    article[\"url\"] = link\n",
    "    article[\"date\"] = date_longform\n",
    "    article[\"source\"] = source\n",
    "    article[\"content\"] = content\n",
    "    \n",
    "    outfile = '/mnt/c/Users/Brennan/Dropbox/MIDS/w210-capstone/data/notCredible/{0}/articles/{2}/article{1}_{2}.txt'.format(source,i,date)\n",
    "    os.makedirs(os.path.dirname(outfile), exist_ok=True)\n",
    "    i+=1\n",
    "\n",
    "    with open(outfile, 'w') as f:\n",
    "        json.dump(article, f)"
   ]
  }
 ],
 "metadata": {
  "kernelspec": {
   "display_name": "Python 3",
   "language": "python",
   "name": "python3"
  },
  "language_info": {
   "codemirror_mode": {
    "name": "ipython",
    "version": 3
   },
   "file_extension": ".py",
   "mimetype": "text/x-python",
   "name": "python",
   "nbconvert_exporter": "python",
   "pygments_lexer": "ipython3",
   "version": "3.5.2"
  }
 },
 "nbformat": 4,
 "nbformat_minor": 2
}
