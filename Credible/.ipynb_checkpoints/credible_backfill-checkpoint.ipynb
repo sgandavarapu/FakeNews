{
 "cells": [
  {
   "cell_type": "code",
   "execution_count": 1,
   "metadata": {
    "collapsed": true
   },
   "outputs": [],
   "source": [
    "import requests\n",
    "import time\n",
    "import schedule\n",
    "import os\n",
    "import json\n",
    "import newspaper"
   ]
  },
  {
   "cell_type": "code",
   "execution_count": 2,
   "metadata": {
    "collapsed": true
   },
   "outputs": [],
   "source": [
    "urls=['https://newsapi.org/v1/articles?source=independent&sortBy=top&apiKey=69ba1408fe9b4ffb821fe13f4cf56244',\n",
    "      'https://newsapi.org/v1/articles?source=bbc-news&sortBy=top&apiKey=69ba1408fe9b4ffb821fe13f4cf56244',\n",
    "      'https://newsapi.org/v1/articles?source=reuters&sortBy=top&apiKey=69ba1408fe9b4ffb821fe13f4cf56244',\n",
    "      'https://newsapi.org/v1/articles?source=the-wall-street-journal&sortBy=top&apiKey=69ba1408fe9b4ffb821fe13f4cf56244',\n",
    "      'https://newsapi.org/v1/articles?source=the-washington-post&sortBy=top&apiKey=69ba1408fe9b4ffb821fe13f4cf56244',\n",
    "      'https://newsapi.org/v1/articles?source=the-new-york-times&sortBy=top&apiKey=69ba1408fe9b4ffb821fe13f4cf56244',\n",
    "      'https://newsapi.org/v1/articles?source=national-geographic&sortBy=top&apiKey=69ba1408fe9b4ffb821fe13f4cf56244',\n",
    "      'https://newsapi.org/v1/articles?source=usa-today&sortBy=top&apiKey=69ba1408fe9b4ffb821fe13f4cf56244']"
   ]
  },
  {
   "cell_type": "code",
   "execution_count": 3,
   "metadata": {
    "collapsed": true
   },
   "outputs": [],
   "source": [
    "month = '02'\n",
    "days = [str(i) for i in list(range(26,29))]\n",
    "\n",
    "dates = []\n",
    "for day in days:\n",
    "    if len(day)<2:\n",
    "        day = \"0{}\".format(day)\n",
    "    dates.append(\"{0}-{1}\".format(month, day))\n",
    "    \n",
    "month='03'\n",
    "days = [str(i) for i in list(range(1,14))]\n",
    "\n",
    "for day in days:\n",
    "    if len(day)<2:\n",
    "        day = \"0{}\".format(day)\n",
    "    dates.append(\"{0}-{1}\".format(month, day))"
   ]
  },
  {
   "cell_type": "code",
   "execution_count": null,
   "metadata": {
    "collapsed": true
   },
   "outputs": [],
   "source": [
    "for date in dates:   \n",
    "    print('saving {} ...'.format(date))\n",
    "    for url in urls:\n",
    "        source = url.replace('https://newsapi.org/v1/articles?source=','').replace('&sortBy=top&apiKey=69ba1408fe9b4ffb821fe13f4cf56244','')\n",
    "        print(source)\n",
    "        filename = '/ebs_volume/data/Credible/{0}/articles/{1}/api.txt'.format(source, date)\n",
    "        try:\n",
    "            os.makedirs(os.path.dirname(filename), exist_ok=True)\n",
    "            -\n",
    "                    \n",
    "        except FileNotFoundError:\n",
    "            print(\"File not found\")\n",
    "                \n",
    "print('Finished')"
   ]
  }
 ],
 "metadata": {
  "kernelspec": {
   "display_name": "Python 3",
   "language": "python",
   "name": "python3"
  },
  "language_info": {
   "codemirror_mode": {
    "name": "ipython",
    "version": 3
   },
   "file_extension": ".py",
   "mimetype": "text/x-python",
   "name": "python",
   "nbconvert_exporter": "python",
   "pygments_lexer": "ipython3",
   "version": "3.6.0"
  }
 },
 "nbformat": 4,
 "nbformat_minor": 2
}
