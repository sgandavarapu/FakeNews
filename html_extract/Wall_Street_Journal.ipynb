{
 "cells": [
  {
   "cell_type": "code",
   "execution_count": 1,
   "metadata": {
    "collapsed": true
   },
   "outputs": [],
   "source": [
    "import requests"
   ]
  },
  {
   "cell_type": "code",
   "execution_count": 2,
   "metadata": {
    "collapsed": true
   },
   "outputs": [],
   "source": [
    "response_wsj = requests.get(\" https://newsapi.org/v1/articles?source=the-wall-street-journal&sortBy=top&apiKey=69ba1408fe9b4ffb821fe13f4cf56244\")\n"
   ]
  },
  {
   "cell_type": "code",
   "execution_count": 3,
   "metadata": {
    "collapsed": false
   },
   "outputs": [
    {
     "name": "stdout",
     "output_type": "stream",
     "text": [
      "200\n"
     ]
    }
   ],
   "source": [
    "print(response.status_code)"
   ]
  },
  {
   "cell_type": "code",
   "execution_count": 4,
   "metadata": {
    "collapsed": false
   },
   "outputs": [
    {
     "name": "stdout",
     "output_type": "stream",
     "text": [
      "b'{\"status\":\"ok\",\"source\":\"the-wall-street-journal\",\"sortBy\":\"top\",\"articles\":[{\"author\":\"Akane Otani and Riva Gold\",\"title\":\"U.S. Stocks Again Close at New Highs\",\"description\":\"Investors dumped bonds and scooped up stocks on fresh optimism about the U.S. economy. The moves came after Fed chief Janet Yellen signaled the central bank could consider raising short-term interest rates at its next policy meeting in March, citing recent job gains and rising inflation.\",\"url\":\"https://www.wsj.com/articles/global-stocks-slip-ahead-of-yellen-testimony-1487040609\",\"urlToImage\":\"https://si.wsj.net/public/resources/images/BN-SC213_2VUFq_G_20170214035451.jpg\",\"publishedAt\":\"2017-02-14T21:09:00Z\"},{\"author\":\"Siobhan Hughes, Carol E. Lee and Shane Harris\",\"title\":\"White House Facing More Russia Questions After Mike Flynn Resignation\",\"description\":\"The Trump administration faced fresh pressure from some lawmakers over its communications with Russia and the operations of the White House inner circle, following the resignation of Mike Flynn as national security adviser.\",\"url\":\"https://www.wsj.com/articles/white-house-facing-more-russia-questions-after-mike-flynn-resignation-1487098067\",\"urlToImage\":\"https://si.wsj.net/public/resources/images/BN-SC351_1rusfl_G_20170214123958.jpg\",\"publishedAt\":\"2017-02-14T19:04:00Z\"},{\"author\":\"Gerald F. Seib\",\"title\":\"After Mike Flynn, Donald Trump\\xe2\\x80\\x99s White House Is at a Crossroads\",\"description\":\"The resignation of national security adviser Mike Flynn could either help steer Donald Trump\\xe2\\x80\\x99s White House toward calmer waters or usher in more questions about connections to Russia, Gerald F. Seib writes.\",\"url\":\"https://www.wsj.com/articles/after-mike-flynn-donald-trumps-white-house-is-at-a-crossroads-1487091180\",\"urlToImage\":\"https://si.wsj.net/public/resources/images/BN-SC326_CAPJOU_G_20170214114419.jpg\",\"publishedAt\":\"2017-02-14T17:13:00Z\"},{\"author\":\"Brent Kendall and Anna Wilde Mathews\",\"title\":\"Cigna Calls Off Merger With Anthem\",\"description\":\"Cigna called off the roughly $48 billion merger with Anthem and filed a lawsuit against its suitor, the second such health-insurer deal to fall apart.\",\"url\":\"https://www.wsj.com/articles/cigna-calls-off-merger-with-anthem-1487104016\",\"urlToImage\":\"https://si.wsj.net/public/resources/images/BN-SC443_CIGNA0_G_20170214153217.jpg\",\"publishedAt\":\"2017-02-14T21:02:00Z\"},{\"author\":\"Jonathan Cheng in Seoul and Yantoultra Ngui in Kuala Lumpur\",\"title\":\"North Korean Leader Kim Jong Un\\xe2\\x80\\x99s Brother Killed in Malaysia\",\"description\":\"North Korean leader Kim Jong Un\\xe2\\x80\\x99s estranged half-brother Kim Jong Nam was killed under mysterious circumstances in Malaysia, police said, eliminating a reform-minded member of the dynasty.\",\"url\":\"https://www.wsj.com/articles/north-korean-leader-kim-jong-uns-brother-reportedly-killed-in-malaysia-1487072747\",\"urlToImage\":\"https://si.wsj.net/public/resources/images/BN-SC236_0214no_G_20170214064116.jpg\",\"publishedAt\":\"2017-02-14T16:56:00Z\"},{\"author\":\"Julian E. Barnes in Brussels and Anton Troianovski in Berlin\",\"title\":\"Trump Puts NATO Allies in the Crosshairs Over Military Spending\",\"description\":\"Germany, long criticized by U.S. administrations as a reluctant warrior, starts to ramp up its defense budget\",\"url\":\"https://www.wsj.com/articles/trump-puts-nato-allies-in-the-crosshairs-over-military-spending-1487088613\",\"urlToImage\":\"https://si.wsj.net/public/resources/images/BN-SB914_0213GE_G_20170213151124.jpg\",\"publishedAt\":\"2017-02-14T16:10:00Z\"},{\"author\":\"John D. Stoll and Mike Colias\",\"title\":\"Ditching Opel Is Next Step in GM CEO\\xe2\\x80\\x99s Profit Drive\",\"description\":\"In considering selling a struggling Opel AG unit, GM Chief Executive Mary Barra appears to be one step closer to dismantling the mega-volume strategy that guided the Detroit car giant for a century.\",\"url\":\"https://www.wsj.com/articles/ditching-opel-is-next-step-in-gm-ceos-profit-drive-1487083422\",\"urlToImage\":\"https://si.wsj.net/public/resources/images/BN-RL728_2cxnJ_G_20170103081642.jpg\",\"publishedAt\":\"2017-02-14T14:43:00Z\"},{\"author\":\"Joanna Stern\",\"title\":\"Samsung Chromebook Pro vs. iPad Pro: Find the Best Laptop-Tablet Hybrid\",\"description\":\"What is the best laptop-tablet hybrid? Personal tech columnist Joanna Stern reviews the Samsung Chromebook Pro, available in April, and compares it with the iPad Pro.\",\"url\":\"https://www.wsj.com/articles/samsung-chromebook-pro-vs-ipad-pro-find-the-best-laptop-tablet-hybrid-1487094220\",\"urlToImage\":\"https://si.wsj.net/public/resources/images/BN-SC281_stern0_G_20170214102718.jpg\",\"publishedAt\":\"2017-02-14T17:43:00Z\"},{\"author\":\"Jack Nicas\",\"title\":\"PewDiePie Show Canceled By Google\\xe2\\x80\\x99s YouTube\",\"description\":\"YouTube is canceling its top star\\xe2\\x80\\x99s show and removing his channel from its preferred-advertising program after he made anti-Semitic jokes or showed Nazi imagery in nine videos.\",\"url\":\"https://www.wsj.com/articles/pewdiepie-show-canceled-by-googles-youtube-1487088868\",\"urlToImage\":\"https://si.wsj.net/public/resources/images/BN-SC313_2XfYi_G_20170214112158.jpg\",\"publishedAt\":\"2017-02-14T17:35:00Z\"},{\"author\":\"Takashi Mochizuki\",\"title\":\"Toshiba\\xe2\\x80\\x99s Meltdown: Chairman Out, $6.3 Billion Write-Down\",\"description\":\"Toshiba\\xe2\\x80\\x99s problems deepened as the electronics giant flagged a $6.3 billion write-down, postponed its earnings report, saw its shares slump and said its chairman was resigning\\xe2\\x80\\x94all in the space of a day.\",\"url\":\"https://www.wsj.com/articles/toshiba-expects-6-26-billion-write-down-on-losses-at-nuclear-unit-1487061151\",\"urlToImage\":\"https://si.wsj.net/public/resources/images/BN-SC196_2AfnQ_G_20170214033628.jpg\",\"publishedAt\":\"2017-02-14T20:15:00Z\"}]}'\n"
     ]
    }
   ],
   "source": [
    "print(response.content)"
   ]
  },
  {
   "cell_type": "code",
   "execution_count": null,
   "metadata": {
    "collapsed": true
   },
   "outputs": [],
   "source": []
  }
 ],
 "metadata": {
  "kernelspec": {
   "display_name": "Python 3",
   "language": "python",
   "name": "python3"
  },
  "language_info": {
   "codemirror_mode": {
    "name": "ipython",
    "version": 3
   },
   "file_extension": ".py",
   "mimetype": "text/x-python",
   "name": "python",
   "nbconvert_exporter": "python",
   "pygments_lexer": "ipython3",
   "version": "3.6.0"
  }
 },
 "nbformat": 4,
 "nbformat_minor": 2
}
