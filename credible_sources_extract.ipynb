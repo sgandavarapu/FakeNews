{
 "cells": [
  {
   "cell_type": "code",
   "execution_count": 1,
   "metadata": {
    "collapsed": false
   },
   "outputs": [],
   "source": [
    "import requests\n",
    "import time\n",
    "import schedule\n",
    "import os\n",
    "import json"
   ]
  },
  {
   "cell_type": "code",
   "execution_count": 2,
   "metadata": {
    "collapsed": true
   },
   "outputs": [],
   "source": [
    "urls=['https://newsapi.org/v1/articles?source=independent&sortBy=top&apiKey=69ba1408fe9b4ffb821fe13f4cf56244',\n",
    "      'https://newsapi.org/v1/articles?source=bbc-news&sortBy=top&apiKey=69ba1408fe9b4ffb821fe13f4cf56244',\n",
    "      'https://newsapi.org/v1/articles?source=reuters&sortBy=top&apiKey=69ba1408fe9b4ffb821fe13f4cf56244',\n",
    "      'https://newsapi.org/v1/articles?source=the-wall-street-journal&sortBy=top&apiKey=69ba1408fe9b4ffb821fe13f4cf56244',\n",
    "      'https://newsapi.org/v1/articles?source=the-washington-post&sortBy=top&apiKey=69ba1408fe9b4ffb821fe13f4cf56244',\n",
    "      'https://newsapi.org/v1/articles?source=the-new-york-times&sortBy=top&apiKey=69ba1408fe9b4ffb821fe13f4cf56244',\n",
    "      'https://newsapi.org/v1/articles?source=national-geographic&sortBy=top&apiKey=69ba1408fe9b4ffb821fe13f4cf56244',\n",
    "      'https://newsapi.org/v1/articles?source=usa-today&sortBy=top&apiKey=69ba1408fe9b4ffb821fe13f4cf56244']\n"
   ]
  },
  {
   "cell_type": "code",
   "execution_count": 3,
   "metadata": {
    "collapsed": false
   },
   "outputs": [],
   "source": [
    "def access_credible_apis():\n",
    "    print('Extracting...')\n",
    "    for url in urls:\n",
    "        r = requests.get(url)\n",
    "        source = url.replace('https://newsapi.org/v1/articles?source=','').replace('&sortBy=top&apiKey=69ba1408fe9b4ffb821fe13f4cf56244','')\n",
    "        filename = '{0}/data/Credible/{1}.txt'.format(loc, source)\n",
    "        os.makedirs(os.path.dirname(filename), exist_ok=True)\n",
    "        \n",
    "        with open(filename, 'w') as f:\n",
    "            json.dump(json.loads(r.text), f)\n",
    "            \n",
    "    print('Finished')\n",
    "    return None"
   ]
  },
  {
   "cell_type": "code",
   "execution_count": null,
   "metadata": {
    "collapsed": false,
    "scrolled": true
   },
   "outputs": [
    {
     "name": "stdout",
     "output_type": "stream",
     "text": [
      "Extracting...\n",
      "Finished\n",
      "Extracting...\n",
      "Finished\n",
      "Extracting...\n",
      "Finished\n"
     ]
    }
   ],
   "source": [
    "loc = 'C:/Users/thajzargarbashi/Documents/210'\n",
    "schedule.every().day.at(\"10:03\").do(access_credible_apis)\n",
    "while True:\n",
    "    schedule.run_pending()\n",
    "    time.sleep(60)"
   ]
  },
  {
   "cell_type": "code",
   "execution_count": null,
   "metadata": {
    "collapsed": true
   },
   "outputs": [],
   "source": []
  }
 ],
 "metadata": {
  "kernelspec": {
   "display_name": "Python 3",
   "language": "python",
   "name": "python3"
  },
  "language_info": {
   "codemirror_mode": {
    "name": "ipython",
    "version": 3
   },
   "file_extension": ".py",
   "mimetype": "text/x-python",
   "name": "python",
   "nbconvert_exporter": "python",
   "pygments_lexer": "ipython3",
   "version": "3.6.0"
  }
 },
 "nbformat": 4,
 "nbformat_minor": 2
}
